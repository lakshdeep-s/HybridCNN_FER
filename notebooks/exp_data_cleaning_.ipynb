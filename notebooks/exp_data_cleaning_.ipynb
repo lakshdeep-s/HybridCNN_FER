{
 "cells": [
  {
   "cell_type": "code",
   "execution_count": 4,
   "id": "b617fe7c",
   "metadata": {},
   "outputs": [],
   "source": [
    "from PIL import Image\n",
    "import os\n",
    "import pandas as pd"
   ]
  },
  {
   "cell_type": "code",
   "execution_count": 5,
   "id": "6be5d54a",
   "metadata": {},
   "outputs": [],
   "source": [
    "imgs_path = \"../expW/origin\"\n",
    "labels_path = \"../expW/label.csv\"\n",
    "new_imgs_path = \"../expW/origin_cleaned\"\n",
    "new_labels_path = \"../expW/new_label.csv\"\n",
    "os.makedirs(new_imgs_path, exist_ok=True)"
   ]
  },
  {
   "cell_type": "code",
   "execution_count": 6,
   "id": "b7a312f3",
   "metadata": {},
   "outputs": [],
   "source": [
    "df_labels = pd.read_csv(labels_path)\n",
    "new_label_entries = []\n",
    "image_counter = 1\n",
    "\n",
    "for _, row in df_labels.iterrows():\n",
    "    orig_img_name = row['image_name']\n",
    "    orig_img_path = os.path.join(imgs_path, orig_img_name)\n",
    "    \n",
    "    if not os.path.exists(orig_img_path):\n",
    "        # Skip if original image missing\n",
    "        continue\n",
    "    \n",
    "    img = Image.open(orig_img_path).convert(\"RGB\")\n",
    "    \n",
    "    # Extract bounding box\n",
    "    left, top = int(row['bbox_left']), int(row['bbox_top'])\n",
    "    right, bottom = int(row['bbox_right']), int(row['bbox_bottom'])\n",
    "    \n",
    "    # Crop and resize\n",
    "    cropped_face = img.crop((left, top, right, bottom)).resize((224, 224), resample=Image.LANCZOS)\n",
    "    \n",
    "    # Save with new name\n",
    "    new_img_name = f\"Image_{image_counter}.jpg\"\n",
    "    cropped_face.save(os.path.join(new_imgs_path, new_img_name))\n",
    "    \n",
    "    # Save label info without extension\n",
    "    new_label_entries.append({\n",
    "        'image_name': f\"Image_{image_counter}\",\n",
    "        'expression_label': int(row['expression_label'])\n",
    "    })\n",
    "    \n",
    "    image_counter += 1\n",
    "\n",
    "# Save new label CSV\n",
    "new_labels_df = pd.DataFrame(new_label_entries)\n",
    "new_labels_df.to_csv(new_labels_path, index=False)"
   ]
  }
 ],
 "metadata": {
  "kernelspec": {
   "display_name": "venv",
   "language": "python",
   "name": "python3"
  },
  "language_info": {
   "codemirror_mode": {
    "name": "ipython",
    "version": 3
   },
   "file_extension": ".py",
   "mimetype": "text/x-python",
   "name": "python",
   "nbconvert_exporter": "python",
   "pygments_lexer": "ipython3",
   "version": "3.12.10"
  }
 },
 "nbformat": 4,
 "nbformat_minor": 5
}
