{
 "cells": [
  {
   "cell_type": "code",
   "execution_count": 1,
   "id": "4175c504",
   "metadata": {},
   "outputs": [],
   "source": [
    "import os\n",
    "from PIL import Image\n",
    "import numpy as np\n",
    "import pandas as pd\n",
    "import matplotlib.pyplot as plt"
   ]
  },
  {
   "cell_type": "code",
   "execution_count": 2,
   "id": "ca12affe",
   "metadata": {},
   "outputs": [
    {
     "name": "stdout",
     "output_type": "stream",
     "text": [
      "<class 'pandas.core.frame.DataFrame'>\n",
      "RangeIndex: 91793 entries, 0 to 91792\n",
      "Data columns (total 2 columns):\n",
      " #   Column            Non-Null Count  Dtype \n",
      "---  ------            --------------  ----- \n",
      " 0   image_name        91793 non-null  object\n",
      " 1   expression_label  91793 non-null  int64 \n",
      "dtypes: int64(1), object(1)\n",
      "memory usage: 1.4+ MB\n"
     ]
    }
   ],
   "source": [
    "label_path = \"../expW/new_label.csv\"\n",
    "img_path = \"../expW/origin_cleaned\"\n",
    "\n",
    "labels = pd.read_csv(label_path)\n",
    "labels.info()"
   ]
  },
  {
   "cell_type": "code",
   "execution_count": 3,
   "id": "2db881c0",
   "metadata": {},
   "outputs": [
    {
     "data": {
      "text/plain": [
       "Counter({6: 34883, 3: 30537, 4: 10559, 5: 7060, 1: 3995, 0: 3671, 2: 1088})"
      ]
     },
     "execution_count": 3,
     "metadata": {},
     "output_type": "execute_result"
    }
   ],
   "source": [
    "# Showing the distribution\n",
    "from collections import Counter\n",
    "Counter(labels['expression_label'])\n",
    "\n",
    "# Visible class Imbalance"
   ]
  },
  {
   "cell_type": "code",
   "execution_count": 5,
   "id": "b1a8cfe3",
   "metadata": {},
   "outputs": [
    {
     "name": "stdout",
     "output_type": "stream",
     "text": [
      "Mean per channel: [0.54148953 0.42486119 0.37428667]\n",
      "Std per channel: [0.23021227 0.2072772  0.1976669 ]\n"
     ]
    }
   ],
   "source": [
    "# Let calculate the mean and std deviation of the color space\n",
    "def calculate_mean_std(image_folder):\n",
    "    means = []\n",
    "    stds = []\n",
    "    count = 0\n",
    "    \n",
    "    for fname in os.listdir(image_folder):\n",
    "        if fname.lower().endswith(('.png', '.jpg', '.jpeg', '.bmp', '.tiff')):\n",
    "            img_path = os.path.join(image_folder, fname)\n",
    "            img = Image.open(img_path).convert('RGB')\n",
    "            img_np = np.array(img) / 255.0  # Normalize pixel values to [0,1]\n",
    "            means.append(np.mean(img_np, axis=(0, 1)))  # Mean per channel\n",
    "            stds.append(np.std(img_np, axis=(0, 1)))    # Std per channel\n",
    "            count += 1\n",
    "\n",
    "    # Compute overall mean and std by averaging over all images' per-channel means and stds\n",
    "    mean = np.mean(means, axis=0)\n",
    "    std = np.mean(stds, axis=0)\n",
    "    return mean, std\n",
    "\n",
    "folder_path = \"../expW/origin_cleaned\"\n",
    "mean, std = calculate_mean_std(folder_path)\n",
    "print(\"Mean per channel:\", mean)\n",
    "print(\"Std per channel:\", std)"
   ]
  }
 ],
 "metadata": {
  "kernelspec": {
   "display_name": "venv",
   "language": "python",
   "name": "python3"
  },
  "language_info": {
   "codemirror_mode": {
    "name": "ipython",
    "version": 3
   },
   "file_extension": ".py",
   "mimetype": "text/x-python",
   "name": "python",
   "nbconvert_exporter": "python",
   "pygments_lexer": "ipython3",
   "version": "3.12.10"
  }
 },
 "nbformat": 4,
 "nbformat_minor": 5
}
