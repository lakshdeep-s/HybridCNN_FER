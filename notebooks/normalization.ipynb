{
 "cells": [
  {
   "cell_type": "code",
   "execution_count": 1,
   "id": "476e3eac",
   "metadata": {},
   "outputs": [],
   "source": [
    "import os\n",
    "from PIL import Image\n",
    "import numpy as np\n",
    "from tqdm import tqdm"
   ]
  },
  {
   "cell_type": "code",
   "execution_count": 3,
   "id": "ded06344",
   "metadata": {},
   "outputs": [],
   "source": [
    "train_path = \"../FERPlusData/FER2013Train\"\n",
    "image_files = [os.path.join(train_path, f) for f in os.listdir(train_path) if f.endswith('.png')]\n",
    "\n",
    "mean_sum = 0.0\n",
    "std_sum = 0.0\n",
    "num_pixels = 0"
   ]
  },
  {
   "cell_type": "code",
   "execution_count": 4,
   "id": "2f311bee",
   "metadata": {},
   "outputs": [
    {
     "name": "stderr",
     "output_type": "stream",
     "text": [
      "Processing images: 100%|██████████| 28558/28558 [03:21<00:00, 141.77it/s]\n"
     ]
    }
   ],
   "source": [
    "for img_file in tqdm(image_files, desc='Processing images'):\n",
    "    img = Image.open(img_file).convert('L')  # Grayscale\n",
    "    img_np = np.array(img) / 255.0  # Normalize pixel values to [0,1]\n",
    "    mean_sum += img_np.mean() * img_np.size\n",
    "    std_sum += img_np.std() * img_np.size\n",
    "    num_pixels += img_np.size"
   ]
  },
  {
   "cell_type": "code",
   "execution_count": 5,
   "id": "4963dc3c",
   "metadata": {},
   "outputs": [
    {
     "name": "stdout",
     "output_type": "stream",
     "text": [
      "Dataset Mean: 0.507620, Std Dev: 0.211988\n"
     ]
    }
   ],
   "source": [
    "mean = mean_sum / num_pixels\n",
    "std = std_sum / num_pixels\n",
    "\n",
    "print(f\"Dataset Mean: {mean:.6f}, Std Dev: {std:.6f}\")"
   ]
  }
 ],
 "metadata": {
  "kernelspec": {
   "display_name": "venv",
   "language": "python",
   "name": "python3"
  },
  "language_info": {
   "codemirror_mode": {
    "name": "ipython",
    "version": 3
   },
   "file_extension": ".py",
   "mimetype": "text/x-python",
   "name": "python",
   "nbconvert_exporter": "python",
   "pygments_lexer": "ipython3",
   "version": "3.12.10"
  }
 },
 "nbformat": 4,
 "nbformat_minor": 5
}
